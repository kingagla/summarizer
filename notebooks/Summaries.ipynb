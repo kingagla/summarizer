{
  "nbformat": 4,
  "nbformat_minor": 0,
  "metadata": {
    "colab": {
      "name": "Summaries.ipynb",
      "provenance": [],
      "authorship_tag": "ABX9TyPOTH7St5Mnxf5QYCJVLr3/",
      "include_colab_link": true
    },
    "kernelspec": {
      "name": "python3",
      "display_name": "Python 3"
    },
    "language_info": {
      "name": "python"
    }
  },
  "cells": [
    {
      "cell_type": "markdown",
      "metadata": {
        "id": "view-in-github",
        "colab_type": "text"
      },
      "source": [
        "<a href=\"https://colab.research.google.com/github/kingagla/summarizer/blob/main/notebooks/Summaries.ipynb\" target=\"_parent\"><img src=\"https://colab.research.google.com/assets/colab-badge.svg\" alt=\"Open In Colab\"/></a>"
      ]
    },
    {
      "cell_type": "code",
      "source": [
        "!pip install spacy==3.1.0"
      ],
      "metadata": {
        "colab": {
          "base_uri": "https://localhost:8080/",
          "height": 1000
        },
        "id": "p0AxEY_yfQKK",
        "outputId": "f3f29739-b12b-4990-cdb5-efe2e1b7fe74"
      },
      "execution_count": 8,
      "outputs": [
        {
          "output_type": "stream",
          "name": "stdout",
          "text": [
            "Collecting spacy==3.1.0\n",
            "  Downloading spacy-3.1.0-cp37-cp37m-manylinux_2_17_x86_64.manylinux2014_x86_64.whl (6.4 MB)\n",
            "\u001b[K     |████████████████████████████████| 6.4 MB 31.2 MB/s \n",
            "\u001b[?25hRequirement already satisfied: typing-extensions<4.0.0.0,>=3.7.4 in /usr/local/lib/python3.7/dist-packages (from spacy==3.1.0) (3.10.0.2)\n",
            "Collecting catalogue<2.1.0,>=2.0.4\n",
            "  Downloading catalogue-2.0.6-py3-none-any.whl (17 kB)\n",
            "Collecting typer<0.4.0,>=0.3.0\n",
            "  Downloading typer-0.3.2-py3-none-any.whl (21 kB)\n",
            "Collecting thinc<8.1.0,>=8.0.7\n",
            "  Downloading thinc-8.0.13-cp37-cp37m-manylinux_2_17_x86_64.manylinux2014_x86_64.whl (628 kB)\n",
            "\u001b[K     |████████████████████████████████| 628 kB 50.6 MB/s \n",
            "\u001b[?25hRequirement already satisfied: numpy>=1.15.0 in /usr/local/lib/python3.7/dist-packages (from spacy==3.1.0) (1.19.5)\n",
            "Requirement already satisfied: blis<0.8.0,>=0.4.0 in /usr/local/lib/python3.7/dist-packages (from spacy==3.1.0) (0.4.1)\n",
            "Requirement already satisfied: wasabi<1.1.0,>=0.8.1 in /usr/local/lib/python3.7/dist-packages (from spacy==3.1.0) (0.8.2)\n",
            "Requirement already satisfied: packaging>=20.0 in /usr/local/lib/python3.7/dist-packages (from spacy==3.1.0) (21.3)\n",
            "Collecting spacy-legacy<3.1.0,>=3.0.7\n",
            "  Downloading spacy_legacy-3.0.8-py2.py3-none-any.whl (14 kB)\n",
            "Requirement already satisfied: murmurhash<1.1.0,>=0.28.0 in /usr/local/lib/python3.7/dist-packages (from spacy==3.1.0) (1.0.6)\n",
            "Requirement already satisfied: requests<3.0.0,>=2.13.0 in /usr/local/lib/python3.7/dist-packages (from spacy==3.1.0) (2.23.0)\n",
            "Collecting srsly<3.0.0,>=2.4.1\n",
            "  Downloading srsly-2.4.2-cp37-cp37m-manylinux_2_17_x86_64.manylinux2014_x86_64.whl (451 kB)\n",
            "\u001b[K     |████████████████████████████████| 451 kB 67.0 MB/s \n",
            "\u001b[?25hCollecting pydantic!=1.8,!=1.8.1,<1.9.0,>=1.7.4\n",
            "  Downloading pydantic-1.8.2-cp37-cp37m-manylinux2014_x86_64.whl (10.1 MB)\n",
            "\u001b[K     |████████████████████████████████| 10.1 MB 44.9 MB/s \n",
            "\u001b[?25hRequirement already satisfied: jinja2 in /usr/local/lib/python3.7/dist-packages (from spacy==3.1.0) (2.11.3)\n",
            "Requirement already satisfied: setuptools in /usr/local/lib/python3.7/dist-packages (from spacy==3.1.0) (57.4.0)\n",
            "Requirement already satisfied: preshed<3.1.0,>=3.0.2 in /usr/local/lib/python3.7/dist-packages (from spacy==3.1.0) (3.0.6)\n",
            "Requirement already satisfied: tqdm<5.0.0,>=4.38.0 in /usr/local/lib/python3.7/dist-packages (from spacy==3.1.0) (4.62.3)\n",
            "Collecting pathy>=0.3.5\n",
            "  Downloading pathy-0.6.1-py3-none-any.whl (42 kB)\n",
            "\u001b[K     |████████████████████████████████| 42 kB 1.3 MB/s \n",
            "\u001b[?25hRequirement already satisfied: cymem<2.1.0,>=2.0.2 in /usr/local/lib/python3.7/dist-packages (from spacy==3.1.0) (2.0.6)\n",
            "Requirement already satisfied: zipp>=0.5 in /usr/local/lib/python3.7/dist-packages (from catalogue<2.1.0,>=2.0.4->spacy==3.1.0) (3.6.0)\n",
            "Requirement already satisfied: pyparsing!=3.0.5,>=2.0.2 in /usr/local/lib/python3.7/dist-packages (from packaging>=20.0->spacy==3.1.0) (3.0.6)\n",
            "Requirement already satisfied: smart-open<6.0.0,>=5.0.0 in /usr/local/lib/python3.7/dist-packages (from pathy>=0.3.5->spacy==3.1.0) (5.2.1)\n",
            "Requirement already satisfied: certifi>=2017.4.17 in /usr/local/lib/python3.7/dist-packages (from requests<3.0.0,>=2.13.0->spacy==3.1.0) (2021.10.8)\n",
            "Requirement already satisfied: urllib3!=1.25.0,!=1.25.1,<1.26,>=1.21.1 in /usr/local/lib/python3.7/dist-packages (from requests<3.0.0,>=2.13.0->spacy==3.1.0) (1.24.3)\n",
            "Requirement already satisfied: idna<3,>=2.5 in /usr/local/lib/python3.7/dist-packages (from requests<3.0.0,>=2.13.0->spacy==3.1.0) (2.10)\n",
            "Requirement already satisfied: chardet<4,>=3.0.2 in /usr/local/lib/python3.7/dist-packages (from requests<3.0.0,>=2.13.0->spacy==3.1.0) (3.0.4)\n",
            "Requirement already satisfied: click<7.2.0,>=7.1.1 in /usr/local/lib/python3.7/dist-packages (from typer<0.4.0,>=0.3.0->spacy==3.1.0) (7.1.2)\n",
            "Requirement already satisfied: MarkupSafe>=0.23 in /usr/local/lib/python3.7/dist-packages (from jinja2->spacy==3.1.0) (2.0.1)\n",
            "Installing collected packages: catalogue, typer, srsly, pydantic, thinc, spacy-legacy, pathy, spacy\n",
            "  Attempting uninstall: catalogue\n",
            "    Found existing installation: catalogue 1.0.0\n",
            "    Uninstalling catalogue-1.0.0:\n",
            "      Successfully uninstalled catalogue-1.0.0\n",
            "  Attempting uninstall: srsly\n",
            "    Found existing installation: srsly 1.0.5\n",
            "    Uninstalling srsly-1.0.5:\n",
            "      Successfully uninstalled srsly-1.0.5\n",
            "  Attempting uninstall: thinc\n",
            "    Found existing installation: thinc 7.4.0\n",
            "    Uninstalling thinc-7.4.0:\n",
            "      Successfully uninstalled thinc-7.4.0\n",
            "  Attempting uninstall: spacy\n",
            "    Found existing installation: spacy 2.2.4\n",
            "    Uninstalling spacy-2.2.4:\n",
            "      Successfully uninstalled spacy-2.2.4\n",
            "Successfully installed catalogue-2.0.6 pathy-0.6.1 pydantic-1.8.2 spacy-3.1.0 spacy-legacy-3.0.8 srsly-2.4.2 thinc-8.0.13 typer-0.3.2\n"
          ]
        },
        {
          "output_type": "display_data",
          "data": {
            "application/vnd.colab-display-data+json": {
              "pip_warning": {
                "packages": [
                  "catalogue",
                  "spacy",
                  "srsly",
                  "thinc"
                ]
              }
            }
          },
          "metadata": {}
        }
      ]
    },
    {
      "cell_type": "code",
      "source": [
        "!python3 -m spacy download pl_core_news_sm"
      ],
      "metadata": {
        "colab": {
          "base_uri": "https://localhost:8080/"
        },
        "id": "T2bJfaTThZAt",
        "outputId": "2fe02db2-4a29-4c7d-803f-dfdb32a14aa2"
      },
      "execution_count": 1,
      "outputs": [
        {
          "output_type": "stream",
          "name": "stdout",
          "text": [
            "Collecting pl-core-news-sm==3.1.0\n",
            "  Downloading https://github.com/explosion/spacy-models/releases/download/pl_core_news_sm-3.1.0/pl_core_news_sm-3.1.0-py3-none-any.whl (58.1 MB)\n",
            "\u001b[K     |████████████████████████████████| 58.1 MB 1.4 MB/s \n",
            "\u001b[?25hRequirement already satisfied: spacy<3.2.0,>=3.1.0 in /usr/local/lib/python3.7/dist-packages (from pl-core-news-sm==3.1.0) (3.1.0)\n",
            "Requirement already satisfied: blis<0.8.0,>=0.4.0 in /usr/local/lib/python3.7/dist-packages (from spacy<3.2.0,>=3.1.0->pl-core-news-sm==3.1.0) (0.4.1)\n",
            "Requirement already satisfied: catalogue<2.1.0,>=2.0.4 in /usr/local/lib/python3.7/dist-packages (from spacy<3.2.0,>=3.1.0->pl-core-news-sm==3.1.0) (2.0.6)\n",
            "Requirement already satisfied: tqdm<5.0.0,>=4.38.0 in /usr/local/lib/python3.7/dist-packages (from spacy<3.2.0,>=3.1.0->pl-core-news-sm==3.1.0) (4.62.3)\n",
            "Requirement already satisfied: wasabi<1.1.0,>=0.8.1 in /usr/local/lib/python3.7/dist-packages (from spacy<3.2.0,>=3.1.0->pl-core-news-sm==3.1.0) (0.8.2)\n",
            "Requirement already satisfied: packaging>=20.0 in /usr/local/lib/python3.7/dist-packages (from spacy<3.2.0,>=3.1.0->pl-core-news-sm==3.1.0) (21.3)\n",
            "Requirement already satisfied: pydantic!=1.8,!=1.8.1,<1.9.0,>=1.7.4 in /usr/local/lib/python3.7/dist-packages (from spacy<3.2.0,>=3.1.0->pl-core-news-sm==3.1.0) (1.8.2)\n",
            "Requirement already satisfied: typing-extensions<4.0.0.0,>=3.7.4 in /usr/local/lib/python3.7/dist-packages (from spacy<3.2.0,>=3.1.0->pl-core-news-sm==3.1.0) (3.10.0.2)\n",
            "Requirement already satisfied: srsly<3.0.0,>=2.4.1 in /usr/local/lib/python3.7/dist-packages (from spacy<3.2.0,>=3.1.0->pl-core-news-sm==3.1.0) (2.4.2)\n",
            "Requirement already satisfied: numpy>=1.15.0 in /usr/local/lib/python3.7/dist-packages (from spacy<3.2.0,>=3.1.0->pl-core-news-sm==3.1.0) (1.19.5)\n",
            "Requirement already satisfied: preshed<3.1.0,>=3.0.2 in /usr/local/lib/python3.7/dist-packages (from spacy<3.2.0,>=3.1.0->pl-core-news-sm==3.1.0) (3.0.6)\n",
            "Requirement already satisfied: pathy>=0.3.5 in /usr/local/lib/python3.7/dist-packages (from spacy<3.2.0,>=3.1.0->pl-core-news-sm==3.1.0) (0.6.1)\n",
            "Requirement already satisfied: typer<0.4.0,>=0.3.0 in /usr/local/lib/python3.7/dist-packages (from spacy<3.2.0,>=3.1.0->pl-core-news-sm==3.1.0) (0.3.2)\n",
            "Requirement already satisfied: spacy-legacy<3.1.0,>=3.0.7 in /usr/local/lib/python3.7/dist-packages (from spacy<3.2.0,>=3.1.0->pl-core-news-sm==3.1.0) (3.0.8)\n",
            "Requirement already satisfied: setuptools in /usr/local/lib/python3.7/dist-packages (from spacy<3.2.0,>=3.1.0->pl-core-news-sm==3.1.0) (57.4.0)\n",
            "Requirement already satisfied: jinja2 in /usr/local/lib/python3.7/dist-packages (from spacy<3.2.0,>=3.1.0->pl-core-news-sm==3.1.0) (2.11.3)\n",
            "Requirement already satisfied: thinc<8.1.0,>=8.0.7 in /usr/local/lib/python3.7/dist-packages (from spacy<3.2.0,>=3.1.0->pl-core-news-sm==3.1.0) (8.0.13)\n",
            "Requirement already satisfied: murmurhash<1.1.0,>=0.28.0 in /usr/local/lib/python3.7/dist-packages (from spacy<3.2.0,>=3.1.0->pl-core-news-sm==3.1.0) (1.0.6)\n",
            "Requirement already satisfied: cymem<2.1.0,>=2.0.2 in /usr/local/lib/python3.7/dist-packages (from spacy<3.2.0,>=3.1.0->pl-core-news-sm==3.1.0) (2.0.6)\n",
            "Requirement already satisfied: requests<3.0.0,>=2.13.0 in /usr/local/lib/python3.7/dist-packages (from spacy<3.2.0,>=3.1.0->pl-core-news-sm==3.1.0) (2.23.0)\n",
            "Requirement already satisfied: zipp>=0.5 in /usr/local/lib/python3.7/dist-packages (from catalogue<2.1.0,>=2.0.4->spacy<3.2.0,>=3.1.0->pl-core-news-sm==3.1.0) (3.6.0)\n",
            "Requirement already satisfied: pyparsing!=3.0.5,>=2.0.2 in /usr/local/lib/python3.7/dist-packages (from packaging>=20.0->spacy<3.2.0,>=3.1.0->pl-core-news-sm==3.1.0) (3.0.6)\n",
            "Requirement already satisfied: smart-open<6.0.0,>=5.0.0 in /usr/local/lib/python3.7/dist-packages (from pathy>=0.3.5->spacy<3.2.0,>=3.1.0->pl-core-news-sm==3.1.0) (5.2.1)\n",
            "Requirement already satisfied: certifi>=2017.4.17 in /usr/local/lib/python3.7/dist-packages (from requests<3.0.0,>=2.13.0->spacy<3.2.0,>=3.1.0->pl-core-news-sm==3.1.0) (2021.10.8)\n",
            "Requirement already satisfied: urllib3!=1.25.0,!=1.25.1,<1.26,>=1.21.1 in /usr/local/lib/python3.7/dist-packages (from requests<3.0.0,>=2.13.0->spacy<3.2.0,>=3.1.0->pl-core-news-sm==3.1.0) (1.24.3)\n",
            "Requirement already satisfied: chardet<4,>=3.0.2 in /usr/local/lib/python3.7/dist-packages (from requests<3.0.0,>=2.13.0->spacy<3.2.0,>=3.1.0->pl-core-news-sm==3.1.0) (3.0.4)\n",
            "Requirement already satisfied: idna<3,>=2.5 in /usr/local/lib/python3.7/dist-packages (from requests<3.0.0,>=2.13.0->spacy<3.2.0,>=3.1.0->pl-core-news-sm==3.1.0) (2.10)\n",
            "Requirement already satisfied: click<7.2.0,>=7.1.1 in /usr/local/lib/python3.7/dist-packages (from typer<0.4.0,>=0.3.0->spacy<3.2.0,>=3.1.0->pl-core-news-sm==3.1.0) (7.1.2)\n",
            "Requirement already satisfied: MarkupSafe>=0.23 in /usr/local/lib/python3.7/dist-packages (from jinja2->spacy<3.2.0,>=3.1.0->pl-core-news-sm==3.1.0) (2.0.1)\n",
            "Installing collected packages: pl-core-news-sm\n",
            "Successfully installed pl-core-news-sm-3.1.0\n",
            "\u001b[38;5;2m✔ Download and installation successful\u001b[0m\n",
            "You can now load the package via spacy.load('pl_core_news_sm')\n"
          ]
        }
      ]
    },
    {
      "cell_type": "code",
      "source": [
        ""
      ],
      "metadata": {
        "id": "ftSn2QaBjA4s"
      },
      "execution_count": 38,
      "outputs": []
    },
    {
      "cell_type": "code",
      "source": [
        "from IPython.core.interactiveshell import InteractiveShell\n",
        "InteractiveShell.ast_node_interactivity = \"all\""
      ],
      "metadata": {
        "id": "1utRnVuyqWFS"
      },
      "execution_count": 60,
      "outputs": []
    },
    {
      "cell_type": "code",
      "source": [
        "import spacy\n",
        "import re\n",
        "from collections import Counter"
      ],
      "metadata": {
        "id": "p5h2gWwMhNdZ"
      },
      "execution_count": 27,
      "outputs": []
    },
    {
      "cell_type": "code",
      "source": [
        "# nlp = spacy.load(\"pl_core_news_sm\")\n",
        "stopwords = nlp.Defaults.stop_words"
      ],
      "metadata": {
        "id": "WLz_BAHufapB"
      },
      "execution_count": 3,
      "outputs": []
    },
    {
      "cell_type": "code",
      "source": [
        "def spacy_lemmatize(text):\n",
        "    doc = nlp(text)\n",
        "    yield \" \".join([token.lemma_ for token in doc])\n",
        "\n",
        "def split_text(text):\n",
        "    text = nlp(text)\n",
        "    text = text.sents\n",
        "    return [item.text for item in text]\n",
        "\n",
        "def score_sentence(sentence, words_popularity):\n",
        "  return sum(map(lambda x: words_popularity.get(x, 0), sentence.split()))"
      ],
      "metadata": {
        "id": "lCF8Qu4ChLDA"
      },
      "execution_count": 52,
      "outputs": []
    },
    {
      "cell_type": "code",
      "source": [
        "sent = 'Poszłam wczoraj do sklepu.'"
      ],
      "metadata": {
        "id": "roTdzrBviJP5"
      },
      "execution_count": 33,
      "outputs": []
    },
    {
      "cell_type": "code",
      "source": [
        "next(spacy_lemmatize(sent))"
      ],
      "metadata": {
        "colab": {
          "base_uri": "https://localhost:8080/",
          "height": 35
        },
        "id": "v3NOVcrFiRos",
        "outputId": "b6c0cac0-d34b-4260-bb5c-c5545a75549a"
      },
      "execution_count": 76,
      "outputs": [
        {
          "output_type": "execute_result",
          "data": {
            "application/vnd.google.colaboratory.intrinsic+json": {
              "type": "string"
            },
            "text/plain": [
              "'pójść wczoraj do sklep .'"
            ]
          },
          "metadata": {},
          "execution_count": 76
        }
      ]
    },
    {
      "cell_type": "markdown",
      "source": [
        "### Popularność słów"
      ],
      "metadata": {
        "id": "n7GTZvENlzaV"
      }
    },
    {
      "cell_type": "code",
      "source": [
        "text_original = \"\"\"W 18. minucie akcję zepsuli koncertowo gospodarze. Po zagraniu Roberta Lewandowskiego we dwóch przeciwko jednemu wybiegli Jamal Musiala i Thomas Mueller. Pierwszy podawał jednak bardzo niedokładnie i piłkę zablokował obrońca.\n",
        "\n",
        "Jak się podaje pokazał niewiele ponad kwadrans później Lewandowski. Polak dośrodkował z pola karnego, do piłki doszedł Mueller i głową przelobował ter Stegena. Piłkę sprzed linii starał się jeszcze wybić obrońca, ale uczynił to już spoza niej. Sędzia zasygnalizował, że piłka całym obwodem minęła linię.\n",
        "\n",
        "Przed przerwą Bayern pozbawił Barcelonę wszelakich złudzeń. Sprzed pola karnego na uderzenie zdecydował się Leroy Sane. Nie popisał się między słupkami ter Stegen, który przepuścił piłkę.\n",
        "\n",
        "Barcelona była świadoma, że musi w 2. połowie zdobyć trzy gole. Rzecz w obecnej formie i w aktualnym zestawieniu nie do wykonania. Potwierdziło się to na boisku. Dominował Bayern, który nie musiał się zbytnio wysilać.\"\"\"\n",
        "text = text_original.replace('\\n', ' ')"
      ],
      "metadata": {
        "id": "VLEHeqBqsawn"
      },
      "execution_count": null,
      "outputs": []
    },
    {
      "cell_type": "code",
      "source": [
        "text"
      ],
      "metadata": {
        "colab": {
          "base_uri": "https://localhost:8080/",
          "height": 105
        },
        "id": "JmqrVN95ivlw",
        "outputId": "fbe84122-1fb4-406d-e89c-b14b44e2d734"
      },
      "execution_count": 14,
      "outputs": [
        {
          "output_type": "execute_result",
          "data": {
            "application/vnd.google.colaboratory.intrinsic+json": {
              "type": "string"
            },
            "text/plain": [
              "'W 18. minucie akcję zepsuli koncertowo gospodarze. Po zagraniu Roberta Lewandowskiego we dwóch przeciwko jednemu wybiegli Jamal Musiala i Thomas Mueller. Pierwszy podawał jednak bardzo niedokładnie i piłkę zablokował obrońca.  Jak się podaje pokazał niewiele ponad kwadrans później Lewandowski. Polak dośrodkował z pola karnego, do piłki doszedł Mueller i głową przelobował ter Stegena. Piłkę sprzed linii starał się jeszcze wybić obrońca, ale uczynił to już spoza niej. Sędzia zasygnalizował, że piłka całym obwodem minęła linię.  Przed przerwą Bayern pozbawił Barcelonę wszelakich złudzeń. Sprzed pola karnego na uderzenie zdecydował się Leroy Sane. Nie popisał się między słupkami ter Stegen, który przepuścił piłkę.  Barcelona była świadoma, że musi w 2. połowie zdobyć trzy gole. Rzecz w obecnej formie i w aktualnym zestawieniu nie do wykonania. Potwierdziło się to na boisku. Dominował Bayern, który nie musiał się zbytnio wysilać.'"
            ]
          },
          "metadata": {},
          "execution_count": 14
        }
      ]
    },
    {
      "cell_type": "code",
      "source": [
        "text = lemmatize(text)\n",
        "text"
      ],
      "metadata": {
        "colab": {
          "base_uri": "https://localhost:8080/",
          "height": 105
        },
        "id": "Yj0yEGrajK5D",
        "outputId": "9cc44f2c-1242-4f14-ce88-c730f4b9a667"
      },
      "execution_count": 16,
      "outputs": [
        {
          "output_type": "execute_result",
          "data": {
            "application/vnd.google.colaboratory.intrinsic+json": {
              "type": "string"
            },
            "text/plain": [
              "'w 18 . minuta akcja zepsuć koncertowo gospodarz . po zagranie Roberta lewandowski w dwa przeciwko jeden wybiec jamal musiala i thomas mueller . pierwszy podawać jednak bardzo niedokładnie i piłka zablokować obrońca .    jak się podawać pokazać niewiele ponad kwadrans późno lewandowski . polak dośrodkować z poła karny , do piłka dojść mueller i głowa przelobować ter stegena . piłka sprzed linia starać się jeszcze wybić obrońca , ale uczynić to już spoza on . sędzia zasygnalizować , że piłka cały obwód minąć linia .    przed przerwa bayern pozbawić barcelona wszelaki złudzenie . sprzed poła karny na uderzenie zdecydować się leroy sane . nie popisać się między słupek ter stegen , który przepuścić piłka .    barcelona była świadomy , że musić w 2 . połowa zdobyć trzy gol . rzecz w obecny forma i w aktualny zestawienie nie do wykonanie . potwierdzić się to na boisko . dominować bayern , który nie musieć się zbytnio wysilać .'"
            ]
          },
          "metadata": {},
          "execution_count": 16
        }
      ]
    },
    {
      "cell_type": "code",
      "source": [
        "text = \" \".join([word for word in text.split() if word not in stopwords])\n",
        "text"
      ],
      "metadata": {
        "colab": {
          "base_uri": "https://localhost:8080/",
          "height": 87
        },
        "id": "SyhX4ynVjrCf",
        "outputId": "ce631386-10f3-4906-a299-2fb429a6c047"
      },
      "execution_count": 20,
      "outputs": [
        {
          "output_type": "execute_result",
          "data": {
            "application/vnd.google.colaboratory.intrinsic+json": {
              "type": "string"
            },
            "text/plain": [
              "'18 . minuta akcja zepsuć koncertowo gospodarz . zagranie Roberta lewandowski przeciwko wybiec jamal musiala thomas mueller . pierwszy podawać niedokładnie piłka zablokować obrońca . podawać pokazać niewiele kwadrans późno lewandowski . polak dośrodkować poła karny , piłka dojść mueller głowa przelobować ter stegena . piłka sprzed linia starać wybić obrońca , uczynić spoza . sędzia zasygnalizować , piłka obwód minąć linia . przerwa bayern pozbawić barcelona wszelaki złudzenie . sprzed poła karny uderzenie zdecydować leroy sane . popisać słupek ter stegen , przepuścić piłka . barcelona świadomy , musić 2 . połowa zdobyć trzy gol . rzecz obecny forma aktualny zestawienie wykonanie . potwierdzić boisko . dominować bayern , musieć zbytnio wysilać .'"
            ]
          },
          "metadata": {},
          "execution_count": 20
        }
      ]
    },
    {
      "cell_type": "code",
      "source": [
        "text = re.sub('[^a-ż]', ' ', text)\n",
        "text "
      ],
      "metadata": {
        "colab": {
          "base_uri": "https://localhost:8080/",
          "height": 87
        },
        "id": "-vDUYYlZjsC8",
        "outputId": "42c3db7f-64ad-436b-c36f-9f532c7a0706"
      },
      "execution_count": 24,
      "outputs": [
        {
          "output_type": "execute_result",
          "data": {
            "application/vnd.google.colaboratory.intrinsic+json": {
              "type": "string"
            },
            "text/plain": [
              "'     minuta akcja zepsuć koncertowo gospodarz   zagranie  oberta lewandowski przeciwko wybiec jamal musiala thomas mueller   pierwszy podawać niedokładnie piłka zablokować obrońca   podawać pokazać niewiele kwadrans późno lewandowski   polak dośrodkować poła karny   piłka dojść mueller głowa przelobować ter stegena   piłka sprzed linia starać wybić obrońca   uczynić spoza   sędzia zasygnalizować   piłka obwód minąć linia   przerwa bayern pozbawić barcelona wszelaki złudzenie   sprzed poła karny uderzenie zdecydować leroy sane   popisać słupek ter stegen   przepuścić piłka   barcelona świadomy   musić     połowa zdobyć trzy gol   rzecz obecny forma aktualny zestawienie wykonanie   potwierdzić boisko   dominować bayern   musieć zbytnio wysilać  '"
            ]
          },
          "metadata": {},
          "execution_count": 24
        }
      ]
    },
    {
      "cell_type": "code",
      "source": [
        "words = Counter()\n",
        "words.update(text.split())\n",
        "common_words = dict(filter(lambda x: (x[1]>1),words.most_common()))"
      ],
      "metadata": {
        "id": "_bTBeQdEjRDI"
      },
      "execution_count": 35,
      "outputs": []
    },
    {
      "cell_type": "code",
      "source": [
        "common_words"
      ],
      "metadata": {
        "colab": {
          "base_uri": "https://localhost:8080/"
        },
        "id": "DRONo5O9lMqy",
        "outputId": "35c8551c-fd71-4460-de20-2e67874619d7"
      },
      "execution_count": 36,
      "outputs": [
        {
          "output_type": "execute_result",
          "data": {
            "text/plain": [
              "{'barcelona': 2,\n",
              " 'bayern': 2,\n",
              " 'karny': 2,\n",
              " 'lewandowski': 2,\n",
              " 'linia': 2,\n",
              " 'mueller': 2,\n",
              " 'obrońca': 2,\n",
              " 'piłka': 5,\n",
              " 'podawać': 2,\n",
              " 'poła': 2,\n",
              " 'sprzed': 2,\n",
              " 'ter': 2}"
            ]
          },
          "metadata": {},
          "execution_count": 36
        }
      ]
    },
    {
      "cell_type": "markdown",
      "source": [
        "# Punktacja dla zdań"
      ],
      "metadata": {
        "id": "LGcweotAn8es"
      }
    },
    {
      "cell_type": "code",
      "source": [
        "text = split_text(text_original.replace('\\n', ' '))\n",
        "lemmatized_text = ''\n",
        "for sentence in text:\n",
        "    temp_text = next(spacy_lemmatize(sentence))\n",
        "    temp_text = re.sub('[^a-ż]', ' ', temp_text)\n",
        "    temp_text = \" \".join([word for word in temp_text.split() if word not in stopwords])\n",
        "    lemmatized_text += temp_text + '. '"
      ],
      "metadata": {
        "id": "sgXypzc-lenr"
      },
      "execution_count": 46,
      "outputs": []
    },
    {
      "cell_type": "code",
      "source": [
        "lemmatized_text"
      ],
      "metadata": {
        "colab": {
          "base_uri": "https://localhost:8080/",
          "height": 87
        },
        "id": "wVEm0HJdn3e2",
        "outputId": "b4c0b9f9-466b-4a48-e759-03ea5e950039"
      },
      "execution_count": 47,
      "outputs": [
        {
          "output_type": "execute_result",
          "data": {
            "application/vnd.google.colaboratory.intrinsic+json": {
              "type": "string"
            },
            "text/plain": [
              "'minuta akcja zepsuć koncertowo gospodarz. zagranie oberto ewandowski przeciwko wybiec jamal musiala thomas mueller. pierwszy podawać niedokładnie piłka zablokować obrońca. podawać pokazać niewiele kwadrans późno lewandowski. polak dośrodkować pole karny piłka dojść mueller głowa przelobować ter stegena. piłka sprzed linia starać wybić obrońca uczynić spoza. sędzia zasygnalizować piłka obwód minąć linia. przerwa bayern pozbawić arcelona wszelaki złudzenie. sprzed pole karny uderzenie zdecydować leroy sane. popisać słupek ter stegen przepuścić piłka. barcelona świadomy musić. połów zdobyć trzy gol. rzecz obecny forma aktualny zestawienie wykonanie. potwierdzić boisko. dominować bayern musieć zbytnio wysilać. '"
            ]
          },
          "metadata": {},
          "execution_count": 47
        }
      ]
    },
    {
      "cell_type": "code",
      "source": [
        "text_lem_split = lemmatized_text.split('.')"
      ],
      "metadata": {
        "id": "sMhQGQsXoFkJ"
      },
      "execution_count": 48,
      "outputs": []
    },
    {
      "cell_type": "code",
      "source": [
        "text_len = len(text_lem_split)\n",
        "text_len"
      ],
      "metadata": {
        "colab": {
          "base_uri": "https://localhost:8080/"
        },
        "id": "DN3ZDl3PoX9J",
        "outputId": "4fc4d8fb-49d4-497c-e575-376446603a6c"
      },
      "execution_count": 50,
      "outputs": [
        {
          "output_type": "execute_result",
          "data": {
            "text/plain": [
              "16"
            ]
          },
          "metadata": {},
          "execution_count": 50
        }
      ]
    },
    {
      "cell_type": "code",
      "source": [
        "text_lem_split[0].split()\n",
        "common_words.get('minuta', 0)"
      ],
      "metadata": {
        "colab": {
          "base_uri": "https://localhost:8080/"
        },
        "id": "_fHt8wQ2pSVN",
        "outputId": "de9e5730-07cd-49b9-b3e4-114805979b5b"
      },
      "execution_count": 57,
      "outputs": [
        {
          "output_type": "execute_result",
          "data": {
            "text/plain": [
              "0"
            ]
          },
          "metadata": {},
          "execution_count": 57
        }
      ]
    },
    {
      "cell_type": "code",
      "source": [
        "list(map(lambda x: common_words.get(x, 0), text_lem_split[0].split()))"
      ],
      "metadata": {
        "colab": {
          "base_uri": "https://localhost:8080/"
        },
        "id": "iI9S4FRrpijT",
        "outputId": "b32765c8-0b1c-4d9a-b3f1-f56e75c5aa7e"
      },
      "execution_count": 58,
      "outputs": [
        {
          "output_type": "execute_result",
          "data": {
            "text/plain": [
              "[0, 0, 0, 0, 0]"
            ]
          },
          "metadata": {},
          "execution_count": 58
        }
      ]
    },
    {
      "cell_type": "code",
      "source": [
        "common_words\n",
        "\n",
        "text_lem_split[0].split()"
      ],
      "metadata": {
        "colab": {
          "base_uri": "https://localhost:8080/"
        },
        "id": "fAVTdleeqJH9",
        "outputId": "18b65502-97ad-48bc-84a9-366b806b1bca"
      },
      "execution_count": 63,
      "outputs": [
        {
          "output_type": "execute_result",
          "data": {
            "text/plain": [
              "{'barcelona': 2,\n",
              " 'bayern': 2,\n",
              " 'karny': 2,\n",
              " 'lewandowski': 2,\n",
              " 'linia': 2,\n",
              " 'mueller': 2,\n",
              " 'obrońca': 2,\n",
              " 'piłka': 5,\n",
              " 'podawać': 2,\n",
              " 'poła': 2,\n",
              " 'sprzed': 2,\n",
              " 'ter': 2}"
            ]
          },
          "metadata": {},
          "execution_count": 63
        },
        {
          "output_type": "execute_result",
          "data": {
            "text/plain": [
              "['minuta', 'akcja', 'zepsuć', 'koncertowo', 'gospodarz']"
            ]
          },
          "metadata": {},
          "execution_count": 63
        }
      ]
    },
    {
      "cell_type": "markdown",
      "source": [
        "**Zdania i ich punktacja**"
      ],
      "metadata": {
        "id": "05Zc0veDqtyf"
      }
    },
    {
      "cell_type": "code",
      "source": [
        "text_score = list(zip(range(text_len),\n",
        "                        map(lambda x: score_sentence(x, words_popularity=common_words),\n",
        "                            text_lem_split)))\n",
        "text_score"
      ],
      "metadata": {
        "colab": {
          "base_uri": "https://localhost:8080/"
        },
        "id": "OwUooh-_ouJ1",
        "outputId": "9f12cb29-f8c6-4ad9-c221-1f5428666083"
      },
      "execution_count": 68,
      "outputs": [
        {
          "output_type": "execute_result",
          "data": {
            "text/plain": [
              "[(0, 0),\n",
              " (1, 2),\n",
              " (2, 9),\n",
              " (3, 4),\n",
              " (4, 11),\n",
              " (5, 11),\n",
              " (6, 7),\n",
              " (7, 2),\n",
              " (8, 4),\n",
              " (9, 7),\n",
              " (10, 2),\n",
              " (11, 0),\n",
              " (12, 0),\n",
              " (13, 0),\n",
              " (14, 2),\n",
              " (15, 0)]"
            ]
          },
          "metadata": {},
          "execution_count": 68
        }
      ]
    },
    {
      "cell_type": "code",
      "source": [
        "n_sentences = 4\n",
        "sentences_to_summary = sorted(text_score, key=lambda x: x[1], reverse=True)\n",
        "sentences_to_summary = list(map(lambda x: x[0], sentences_to_summary))[:n_sentences]\n",
        "text = split_text(text_original)\n",
        "sentences_to_summary = map(text.__getitem__, sentences_to_summary)"
      ],
      "metadata": {
        "id": "FoKZxE7VqkxT"
      },
      "execution_count": 121,
      "outputs": []
    },
    {
      "cell_type": "code",
      "source": [
        "stat_summary = \" \".join(sentences_to_summary)\n",
        "stat_summary"
      ],
      "metadata": {
        "colab": {
          "base_uri": "https://localhost:8080/",
          "height": 53
        },
        "id": "6-eu7CI4ruM9",
        "outputId": "5798487a-98fe-4865-dde9-8e86e30c6fe6"
      },
      "execution_count": 122,
      "outputs": [
        {
          "output_type": "execute_result",
          "data": {
            "application/vnd.google.colaboratory.intrinsic+json": {
              "type": "string"
            },
            "text/plain": [
              "'Polak dośrodkował z pola karnego, do piłki doszedł Mueller i głową przelobował ter Stegena. Piłkę sprzed linii starał się jeszcze wybić obrońca, ale uczynił to już spoza niej. Pierwszy podawał jednak bardzo niedokładnie i piłkę zablokował obrońca. Sędzia zasygnalizował, że piłka całym obwodem minęła linię.'"
            ]
          },
          "metadata": {},
          "execution_count": 122
        }
      ]
    },
    {
      "cell_type": "markdown",
      "source": [
        "# BERT + K-mean"
      ],
      "metadata": {
        "id": "6Rpa5OXer2zP"
      }
    },
    {
      "cell_type": "code",
      "source": [
        "!pip install transformers"
      ],
      "metadata": {
        "colab": {
          "base_uri": "https://localhost:8080/"
        },
        "id": "nytoCXTwrx6O",
        "outputId": "4c257817-aae8-4e39-984c-4c6c9f8a5cbe"
      },
      "execution_count": 71,
      "outputs": [
        {
          "output_type": "stream",
          "name": "stdout",
          "text": [
            "Collecting transformers\n",
            "  Downloading transformers-4.12.5-py3-none-any.whl (3.1 MB)\n",
            "\u001b[?25l\r\u001b[K     |                                | 10 kB 22.3 MB/s eta 0:00:01\r\u001b[K     |▏                               | 20 kB 25.6 MB/s eta 0:00:01\r\u001b[K     |▎                               | 30 kB 26.7 MB/s eta 0:00:01\r\u001b[K     |▍                               | 40 kB 29.2 MB/s eta 0:00:01\r\u001b[K     |▌                               | 51 kB 32.1 MB/s eta 0:00:01\r\u001b[K     |▋                               | 61 kB 33.2 MB/s eta 0:00:01\r\u001b[K     |▊                               | 71 kB 33.8 MB/s eta 0:00:01\r\u001b[K     |▉                               | 81 kB 35.2 MB/s eta 0:00:01\r\u001b[K     |█                               | 92 kB 36.8 MB/s eta 0:00:01\r\u001b[K     |█                               | 102 kB 35.4 MB/s eta 0:00:01\r\u001b[K     |█▏                              | 112 kB 35.4 MB/s eta 0:00:01\r\u001b[K     |█▎                              | 122 kB 35.4 MB/s eta 0:00:01\r\u001b[K     |█▍                              | 133 kB 35.4 MB/s eta 0:00:01\r\u001b[K     |█▌                              | 143 kB 35.4 MB/s eta 0:00:01\r\u001b[K     |█▋                              | 153 kB 35.4 MB/s eta 0:00:01\r\u001b[K     |█▊                              | 163 kB 35.4 MB/s eta 0:00:01\r\u001b[K     |█▉                              | 174 kB 35.4 MB/s eta 0:00:01\r\u001b[K     |██                              | 184 kB 35.4 MB/s eta 0:00:01\r\u001b[K     |██                              | 194 kB 35.4 MB/s eta 0:00:01\r\u001b[K     |██▏                             | 204 kB 35.4 MB/s eta 0:00:01\r\u001b[K     |██▎                             | 215 kB 35.4 MB/s eta 0:00:01\r\u001b[K     |██▍                             | 225 kB 35.4 MB/s eta 0:00:01\r\u001b[K     |██▌                             | 235 kB 35.4 MB/s eta 0:00:01\r\u001b[K     |██▋                             | 245 kB 35.4 MB/s eta 0:00:01\r\u001b[K     |██▊                             | 256 kB 35.4 MB/s eta 0:00:01\r\u001b[K     |██▊                             | 266 kB 35.4 MB/s eta 0:00:01\r\u001b[K     |██▉                             | 276 kB 35.4 MB/s eta 0:00:01\r\u001b[K     |███                             | 286 kB 35.4 MB/s eta 0:00:01\r\u001b[K     |███                             | 296 kB 35.4 MB/s eta 0:00:01\r\u001b[K     |███▏                            | 307 kB 35.4 MB/s eta 0:00:01\r\u001b[K     |███▎                            | 317 kB 35.4 MB/s eta 0:00:01\r\u001b[K     |███▍                            | 327 kB 35.4 MB/s eta 0:00:01\r\u001b[K     |███▌                            | 337 kB 35.4 MB/s eta 0:00:01\r\u001b[K     |███▋                            | 348 kB 35.4 MB/s eta 0:00:01\r\u001b[K     |███▊                            | 358 kB 35.4 MB/s eta 0:00:01\r\u001b[K     |███▉                            | 368 kB 35.4 MB/s eta 0:00:01\r\u001b[K     |████                            | 378 kB 35.4 MB/s eta 0:00:01\r\u001b[K     |████                            | 389 kB 35.4 MB/s eta 0:00:01\r\u001b[K     |████▏                           | 399 kB 35.4 MB/s eta 0:00:01\r\u001b[K     |████▎                           | 409 kB 35.4 MB/s eta 0:00:01\r\u001b[K     |████▍                           | 419 kB 35.4 MB/s eta 0:00:01\r\u001b[K     |████▌                           | 430 kB 35.4 MB/s eta 0:00:01\r\u001b[K     |████▋                           | 440 kB 35.4 MB/s eta 0:00:01\r\u001b[K     |████▊                           | 450 kB 35.4 MB/s eta 0:00:01\r\u001b[K     |████▉                           | 460 kB 35.4 MB/s eta 0:00:01\r\u001b[K     |█████                           | 471 kB 35.4 MB/s eta 0:00:01\r\u001b[K     |█████                           | 481 kB 35.4 MB/s eta 0:00:01\r\u001b[K     |█████▏                          | 491 kB 35.4 MB/s eta 0:00:01\r\u001b[K     |█████▎                          | 501 kB 35.4 MB/s eta 0:00:01\r\u001b[K     |█████▍                          | 512 kB 35.4 MB/s eta 0:00:01\r\u001b[K     |█████▌                          | 522 kB 35.4 MB/s eta 0:00:01\r\u001b[K     |█████▌                          | 532 kB 35.4 MB/s eta 0:00:01\r\u001b[K     |█████▋                          | 542 kB 35.4 MB/s eta 0:00:01\r\u001b[K     |█████▊                          | 552 kB 35.4 MB/s eta 0:00:01\r\u001b[K     |█████▉                          | 563 kB 35.4 MB/s eta 0:00:01\r\u001b[K     |██████                          | 573 kB 35.4 MB/s eta 0:00:01\r\u001b[K     |██████                          | 583 kB 35.4 MB/s eta 0:00:01\r\u001b[K     |██████▏                         | 593 kB 35.4 MB/s eta 0:00:01\r\u001b[K     |██████▎                         | 604 kB 35.4 MB/s eta 0:00:01\r\u001b[K     |██████▍                         | 614 kB 35.4 MB/s eta 0:00:01\r\u001b[K     |██████▌                         | 624 kB 35.4 MB/s eta 0:00:01\r\u001b[K     |██████▋                         | 634 kB 35.4 MB/s eta 0:00:01\r\u001b[K     |██████▊                         | 645 kB 35.4 MB/s eta 0:00:01\r\u001b[K     |██████▉                         | 655 kB 35.4 MB/s eta 0:00:01\r\u001b[K     |███████                         | 665 kB 35.4 MB/s eta 0:00:01\r\u001b[K     |███████                         | 675 kB 35.4 MB/s eta 0:00:01\r\u001b[K     |███████▏                        | 686 kB 35.4 MB/s eta 0:00:01\r\u001b[K     |███████▎                        | 696 kB 35.4 MB/s eta 0:00:01\r\u001b[K     |███████▍                        | 706 kB 35.4 MB/s eta 0:00:01\r\u001b[K     |███████▌                        | 716 kB 35.4 MB/s eta 0:00:01\r\u001b[K     |███████▋                        | 727 kB 35.4 MB/s eta 0:00:01\r\u001b[K     |███████▊                        | 737 kB 35.4 MB/s eta 0:00:01\r\u001b[K     |███████▉                        | 747 kB 35.4 MB/s eta 0:00:01\r\u001b[K     |████████                        | 757 kB 35.4 MB/s eta 0:00:01\r\u001b[K     |████████                        | 768 kB 35.4 MB/s eta 0:00:01\r\u001b[K     |████████▏                       | 778 kB 35.4 MB/s eta 0:00:01\r\u001b[K     |████████▎                       | 788 kB 35.4 MB/s eta 0:00:01\r\u001b[K     |████████▎                       | 798 kB 35.4 MB/s eta 0:00:01\r\u001b[K     |████████▍                       | 808 kB 35.4 MB/s eta 0:00:01\r\u001b[K     |████████▌                       | 819 kB 35.4 MB/s eta 0:00:01\r\u001b[K     |████████▋                       | 829 kB 35.4 MB/s eta 0:00:01\r\u001b[K     |████████▊                       | 839 kB 35.4 MB/s eta 0:00:01\r\u001b[K     |████████▉                       | 849 kB 35.4 MB/s eta 0:00:01\r\u001b[K     |█████████                       | 860 kB 35.4 MB/s eta 0:00:01\r\u001b[K     |█████████                       | 870 kB 35.4 MB/s eta 0:00:01\r\u001b[K     |█████████▏                      | 880 kB 35.4 MB/s eta 0:00:01\r\u001b[K     |█████████▎                      | 890 kB 35.4 MB/s eta 0:00:01\r\u001b[K     |█████████▍                      | 901 kB 35.4 MB/s eta 0:00:01\r\u001b[K     |█████████▌                      | 911 kB 35.4 MB/s eta 0:00:01\r\u001b[K     |█████████▋                      | 921 kB 35.4 MB/s eta 0:00:01\r\u001b[K     |█████████▊                      | 931 kB 35.4 MB/s eta 0:00:01\r\u001b[K     |█████████▉                      | 942 kB 35.4 MB/s eta 0:00:01\r\u001b[K     |██████████                      | 952 kB 35.4 MB/s eta 0:00:01\r\u001b[K     |██████████                      | 962 kB 35.4 MB/s eta 0:00:01\r\u001b[K     |██████████▏                     | 972 kB 35.4 MB/s eta 0:00:01\r\u001b[K     |██████████▎                     | 983 kB 35.4 MB/s eta 0:00:01\r\u001b[K     |██████████▍                     | 993 kB 35.4 MB/s eta 0:00:01\r\u001b[K     |██████████▌                     | 1.0 MB 35.4 MB/s eta 0:00:01\r\u001b[K     |██████████▋                     | 1.0 MB 35.4 MB/s eta 0:00:01\r\u001b[K     |██████████▊                     | 1.0 MB 35.4 MB/s eta 0:00:01\r\u001b[K     |██████████▉                     | 1.0 MB 35.4 MB/s eta 0:00:01\r\u001b[K     |███████████                     | 1.0 MB 35.4 MB/s eta 0:00:01\r\u001b[K     |███████████                     | 1.1 MB 35.4 MB/s eta 0:00:01\r\u001b[K     |███████████                     | 1.1 MB 35.4 MB/s eta 0:00:01\r\u001b[K     |███████████▏                    | 1.1 MB 35.4 MB/s eta 0:00:01\r\u001b[K     |███████████▎                    | 1.1 MB 35.4 MB/s eta 0:00:01\r\u001b[K     |███████████▍                    | 1.1 MB 35.4 MB/s eta 0:00:01\r\u001b[K     |███████████▌                    | 1.1 MB 35.4 MB/s eta 0:00:01\r\u001b[K     |███████████▋                    | 1.1 MB 35.4 MB/s eta 0:00:01\r\u001b[K     |███████████▊                    | 1.1 MB 35.4 MB/s eta 0:00:01\r\u001b[K     |███████████▉                    | 1.1 MB 35.4 MB/s eta 0:00:01\r\u001b[K     |████████████                    | 1.1 MB 35.4 MB/s eta 0:00:01\r\u001b[K     |████████████                    | 1.2 MB 35.4 MB/s eta 0:00:01\r\u001b[K     |████████████▏                   | 1.2 MB 35.4 MB/s eta 0:00:01\r\u001b[K     |████████████▎                   | 1.2 MB 35.4 MB/s eta 0:00:01\r\u001b[K     |████████████▍                   | 1.2 MB 35.4 MB/s eta 0:00:01\r\u001b[K     |████████████▌                   | 1.2 MB 35.4 MB/s eta 0:00:01\r\u001b[K     |████████████▋                   | 1.2 MB 35.4 MB/s eta 0:00:01\r\u001b[K     |████████████▊                   | 1.2 MB 35.4 MB/s eta 0:00:01\r\u001b[K     |████████████▉                   | 1.2 MB 35.4 MB/s eta 0:00:01\r\u001b[K     |█████████████                   | 1.2 MB 35.4 MB/s eta 0:00:01\r\u001b[K     |█████████████                   | 1.2 MB 35.4 MB/s eta 0:00:01\r\u001b[K     |█████████████▏                  | 1.3 MB 35.4 MB/s eta 0:00:01\r\u001b[K     |█████████████▎                  | 1.3 MB 35.4 MB/s eta 0:00:01\r\u001b[K     |█████████████▍                  | 1.3 MB 35.4 MB/s eta 0:00:01\r\u001b[K     |█████████████▌                  | 1.3 MB 35.4 MB/s eta 0:00:01\r\u001b[K     |█████████████▋                  | 1.3 MB 35.4 MB/s eta 0:00:01\r\u001b[K     |█████████████▊                  | 1.3 MB 35.4 MB/s eta 0:00:01\r\u001b[K     |█████████████▉                  | 1.3 MB 35.4 MB/s eta 0:00:01\r\u001b[K     |█████████████▉                  | 1.3 MB 35.4 MB/s eta 0:00:01\r\u001b[K     |██████████████                  | 1.3 MB 35.4 MB/s eta 0:00:01\r\u001b[K     |██████████████                  | 1.4 MB 35.4 MB/s eta 0:00:01\r\u001b[K     |██████████████▏                 | 1.4 MB 35.4 MB/s eta 0:00:01\r\u001b[K     |██████████████▎                 | 1.4 MB 35.4 MB/s eta 0:00:01\r\u001b[K     |██████████████▍                 | 1.4 MB 35.4 MB/s eta 0:00:01\r\u001b[K     |██████████████▌                 | 1.4 MB 35.4 MB/s eta 0:00:01\r\u001b[K     |██████████████▋                 | 1.4 MB 35.4 MB/s eta 0:00:01\r\u001b[K     |██████████████▊                 | 1.4 MB 35.4 MB/s eta 0:00:01\r\u001b[K     |██████████████▉                 | 1.4 MB 35.4 MB/s eta 0:00:01\r\u001b[K     |███████████████                 | 1.4 MB 35.4 MB/s eta 0:00:01\r\u001b[K     |███████████████                 | 1.4 MB 35.4 MB/s eta 0:00:01\r\u001b[K     |███████████████▏                | 1.5 MB 35.4 MB/s eta 0:00:01\r\u001b[K     |███████████████▎                | 1.5 MB 35.4 MB/s eta 0:00:01\r\u001b[K     |███████████████▍                | 1.5 MB 35.4 MB/s eta 0:00:01\r\u001b[K     |███████████████▌                | 1.5 MB 35.4 MB/s eta 0:00:01\r\u001b[K     |███████████████▋                | 1.5 MB 35.4 MB/s eta 0:00:01\r\u001b[K     |███████████████▊                | 1.5 MB 35.4 MB/s eta 0:00:01\r\u001b[K     |███████████████▉                | 1.5 MB 35.4 MB/s eta 0:00:01\r\u001b[K     |████████████████                | 1.5 MB 35.4 MB/s eta 0:00:01\r\u001b[K     |████████████████                | 1.5 MB 35.4 MB/s eta 0:00:01\r\u001b[K     |████████████████▏               | 1.5 MB 35.4 MB/s eta 0:00:01\r\u001b[K     |████████████████▎               | 1.6 MB 35.4 MB/s eta 0:00:01\r\u001b[K     |████████████████▍               | 1.6 MB 35.4 MB/s eta 0:00:01\r\u001b[K     |████████████████▌               | 1.6 MB 35.4 MB/s eta 0:00:01\r\u001b[K     |████████████████▋               | 1.6 MB 35.4 MB/s eta 0:00:01\r\u001b[K     |████████████████▋               | 1.6 MB 35.4 MB/s eta 0:00:01\r\u001b[K     |████████████████▊               | 1.6 MB 35.4 MB/s eta 0:00:01\r\u001b[K     |████████████████▉               | 1.6 MB 35.4 MB/s eta 0:00:01\r\u001b[K     |█████████████████               | 1.6 MB 35.4 MB/s eta 0:00:01\r\u001b[K     |█████████████████               | 1.6 MB 35.4 MB/s eta 0:00:01\r\u001b[K     |█████████████████▏              | 1.6 MB 35.4 MB/s eta 0:00:01\r\u001b[K     |█████████████████▎              | 1.7 MB 35.4 MB/s eta 0:00:01\r\u001b[K     |█████████████████▍              | 1.7 MB 35.4 MB/s eta 0:00:01\r\u001b[K     |█████████████████▌              | 1.7 MB 35.4 MB/s eta 0:00:01\r\u001b[K     |█████████████████▋              | 1.7 MB 35.4 MB/s eta 0:00:01\r\u001b[K     |█████████████████▊              | 1.7 MB 35.4 MB/s eta 0:00:01\r\u001b[K     |█████████████████▉              | 1.7 MB 35.4 MB/s eta 0:00:01\r\u001b[K     |██████████████████              | 1.7 MB 35.4 MB/s eta 0:00:01\r\u001b[K     |██████████████████              | 1.7 MB 35.4 MB/s eta 0:00:01\r\u001b[K     |██████████████████▏             | 1.7 MB 35.4 MB/s eta 0:00:01\r\u001b[K     |██████████████████▎             | 1.8 MB 35.4 MB/s eta 0:00:01\r\u001b[K     |██████████████████▍             | 1.8 MB 35.4 MB/s eta 0:00:01\r\u001b[K     |██████████████████▌             | 1.8 MB 35.4 MB/s eta 0:00:01\r\u001b[K     |██████████████████▋             | 1.8 MB 35.4 MB/s eta 0:00:01\r\u001b[K     |██████████████████▊             | 1.8 MB 35.4 MB/s eta 0:00:01\r\u001b[K     |██████████████████▉             | 1.8 MB 35.4 MB/s eta 0:00:01\r\u001b[K     |███████████████████             | 1.8 MB 35.4 MB/s eta 0:00:01\r\u001b[K     |███████████████████             | 1.8 MB 35.4 MB/s eta 0:00:01\r\u001b[K     |███████████████████▏            | 1.8 MB 35.4 MB/s eta 0:00:01\r\u001b[K     |███████████████████▎            | 1.8 MB 35.4 MB/s eta 0:00:01\r\u001b[K     |███████████████████▍            | 1.9 MB 35.4 MB/s eta 0:00:01\r\u001b[K     |███████████████████▍            | 1.9 MB 35.4 MB/s eta 0:00:01\r\u001b[K     |███████████████████▌            | 1.9 MB 35.4 MB/s eta 0:00:01\r\u001b[K     |███████████████████▋            | 1.9 MB 35.4 MB/s eta 0:00:01\r\u001b[K     |███████████████████▊            | 1.9 MB 35.4 MB/s eta 0:00:01\r\u001b[K     |███████████████████▉            | 1.9 MB 35.4 MB/s eta 0:00:01\r\u001b[K     |████████████████████            | 1.9 MB 35.4 MB/s eta 0:00:01\r\u001b[K     |████████████████████            | 1.9 MB 35.4 MB/s eta 0:00:01\r\u001b[K     |████████████████████▏           | 1.9 MB 35.4 MB/s eta 0:00:01\r\u001b[K     |████████████████████▎           | 1.9 MB 35.4 MB/s eta 0:00:01\r\u001b[K     |████████████████████▍           | 2.0 MB 35.4 MB/s eta 0:00:01\r\u001b[K     |████████████████████▌           | 2.0 MB 35.4 MB/s eta 0:00:01\r\u001b[K     |████████████████████▋           | 2.0 MB 35.4 MB/s eta 0:00:01\r\u001b[K     |████████████████████▊           | 2.0 MB 35.4 MB/s eta 0:00:01\r\u001b[K     |████████████████████▉           | 2.0 MB 35.4 MB/s eta 0:00:01\r\u001b[K     |█████████████████████           | 2.0 MB 35.4 MB/s eta 0:00:01\r\u001b[K     |█████████████████████           | 2.0 MB 35.4 MB/s eta 0:00:01\r\u001b[K     |█████████████████████▏          | 2.0 MB 35.4 MB/s eta 0:00:01\r\u001b[K     |█████████████████████▎          | 2.0 MB 35.4 MB/s eta 0:00:01\r\u001b[K     |█████████████████████▍          | 2.0 MB 35.4 MB/s eta 0:00:01\r\u001b[K     |█████████████████████▌          | 2.1 MB 35.4 MB/s eta 0:00:01\r\u001b[K     |█████████████████████▋          | 2.1 MB 35.4 MB/s eta 0:00:01\r\u001b[K     |█████████████████████▊          | 2.1 MB 35.4 MB/s eta 0:00:01\r\u001b[K     |█████████████████████▉          | 2.1 MB 35.4 MB/s eta 0:00:01\r\u001b[K     |██████████████████████          | 2.1 MB 35.4 MB/s eta 0:00:01\r\u001b[K     |██████████████████████          | 2.1 MB 35.4 MB/s eta 0:00:01\r\u001b[K     |██████████████████████▏         | 2.1 MB 35.4 MB/s eta 0:00:01\r\u001b[K     |██████████████████████▏         | 2.1 MB 35.4 MB/s eta 0:00:01\r\u001b[K     |██████████████████████▎         | 2.1 MB 35.4 MB/s eta 0:00:01\r\u001b[K     |██████████████████████▍         | 2.2 MB 35.4 MB/s eta 0:00:01\r\u001b[K     |██████████████████████▌         | 2.2 MB 35.4 MB/s eta 0:00:01\r\u001b[K     |██████████████████████▋         | 2.2 MB 35.4 MB/s eta 0:00:01\r\u001b[K     |██████████████████████▊         | 2.2 MB 35.4 MB/s eta 0:00:01\r\u001b[K     |██████████████████████▉         | 2.2 MB 35.4 MB/s eta 0:00:01\r\u001b[K     |███████████████████████         | 2.2 MB 35.4 MB/s eta 0:00:01\r\u001b[K     |███████████████████████         | 2.2 MB 35.4 MB/s eta 0:00:01\r\u001b[K     |███████████████████████▏        | 2.2 MB 35.4 MB/s eta 0:00:01\r\u001b[K     |███████████████████████▎        | 2.2 MB 35.4 MB/s eta 0:00:01\r\u001b[K     |███████████████████████▍        | 2.2 MB 35.4 MB/s eta 0:00:01\r\u001b[K     |███████████████████████▌        | 2.3 MB 35.4 MB/s eta 0:00:01\r\u001b[K     |███████████████████████▋        | 2.3 MB 35.4 MB/s eta 0:00:01\r\u001b[K     |███████████████████████▊        | 2.3 MB 35.4 MB/s eta 0:00:01\r\u001b[K     |███████████████████████▉        | 2.3 MB 35.4 MB/s eta 0:00:01\r\u001b[K     |████████████████████████        | 2.3 MB 35.4 MB/s eta 0:00:01\r\u001b[K     |████████████████████████        | 2.3 MB 35.4 MB/s eta 0:00:01\r\u001b[K     |████████████████████████▏       | 2.3 MB 35.4 MB/s eta 0:00:01\r\u001b[K     |████████████████████████▎       | 2.3 MB 35.4 MB/s eta 0:00:01\r\u001b[K     |████████████████████████▍       | 2.3 MB 35.4 MB/s eta 0:00:01\r\u001b[K     |████████████████████████▌       | 2.3 MB 35.4 MB/s eta 0:00:01\r\u001b[K     |████████████████████████▋       | 2.4 MB 35.4 MB/s eta 0:00:01\r\u001b[K     |████████████████████████▊       | 2.4 MB 35.4 MB/s eta 0:00:01\r\u001b[K     |████████████████████████▉       | 2.4 MB 35.4 MB/s eta 0:00:01\r\u001b[K     |█████████████████████████       | 2.4 MB 35.4 MB/s eta 0:00:01\r\u001b[K     |█████████████████████████       | 2.4 MB 35.4 MB/s eta 0:00:01\r\u001b[K     |█████████████████████████       | 2.4 MB 35.4 MB/s eta 0:00:01\r\u001b[K     |█████████████████████████▏      | 2.4 MB 35.4 MB/s eta 0:00:01\r\u001b[K     |█████████████████████████▎      | 2.4 MB 35.4 MB/s eta 0:00:01\r\u001b[K     |█████████████████████████▍      | 2.4 MB 35.4 MB/s eta 0:00:01\r\u001b[K     |█████████████████████████▌      | 2.4 MB 35.4 MB/s eta 0:00:01\r\u001b[K     |█████████████████████████▋      | 2.5 MB 35.4 MB/s eta 0:00:01\r\u001b[K     |█████████████████████████▊      | 2.5 MB 35.4 MB/s eta 0:00:01\r\u001b[K     |█████████████████████████▉      | 2.5 MB 35.4 MB/s eta 0:00:01\r\u001b[K     |██████████████████████████      | 2.5 MB 35.4 MB/s eta 0:00:01\r\u001b[K     |██████████████████████████      | 2.5 MB 35.4 MB/s eta 0:00:01\r\u001b[K     |██████████████████████████▏     | 2.5 MB 35.4 MB/s eta 0:00:01\r\u001b[K     |██████████████████████████▎     | 2.5 MB 35.4 MB/s eta 0:00:01\r\u001b[K     |██████████████████████████▍     | 2.5 MB 35.4 MB/s eta 0:00:01\r\u001b[K     |██████████████████████████▌     | 2.5 MB 35.4 MB/s eta 0:00:01\r\u001b[K     |██████████████████████████▋     | 2.5 MB 35.4 MB/s eta 0:00:01\r\u001b[K     |██████████████████████████▊     | 2.6 MB 35.4 MB/s eta 0:00:01\r\u001b[K     |██████████████████████████▉     | 2.6 MB 35.4 MB/s eta 0:00:01\r\u001b[K     |███████████████████████████     | 2.6 MB 35.4 MB/s eta 0:00:01\r\u001b[K     |███████████████████████████     | 2.6 MB 35.4 MB/s eta 0:00:01\r\u001b[K     |███████████████████████████▏    | 2.6 MB 35.4 MB/s eta 0:00:01\r\u001b[K     |███████████████████████████▎    | 2.6 MB 35.4 MB/s eta 0:00:01\r\u001b[K     |███████████████████████████▍    | 2.6 MB 35.4 MB/s eta 0:00:01\r\u001b[K     |███████████████████████████▌    | 2.6 MB 35.4 MB/s eta 0:00:01\r\u001b[K     |███████████████████████████▋    | 2.6 MB 35.4 MB/s eta 0:00:01\r\u001b[K     |███████████████████████████▊    | 2.7 MB 35.4 MB/s eta 0:00:01\r\u001b[K     |███████████████████████████▊    | 2.7 MB 35.4 MB/s eta 0:00:01\r\u001b[K     |███████████████████████████▉    | 2.7 MB 35.4 MB/s eta 0:00:01\r\u001b[K     |████████████████████████████    | 2.7 MB 35.4 MB/s eta 0:00:01\r\u001b[K     |████████████████████████████    | 2.7 MB 35.4 MB/s eta 0:00:01\r\u001b[K     |████████████████████████████▏   | 2.7 MB 35.4 MB/s eta 0:00:01\r\u001b[K     |████████████████████████████▎   | 2.7 MB 35.4 MB/s eta 0:00:01\r\u001b[K     |████████████████████████████▍   | 2.7 MB 35.4 MB/s eta 0:00:01\r\u001b[K     |████████████████████████████▌   | 2.7 MB 35.4 MB/s eta 0:00:01\r\u001b[K     |████████████████████████████▋   | 2.7 MB 35.4 MB/s eta 0:00:01\r\u001b[K     |████████████████████████████▊   | 2.8 MB 35.4 MB/s eta 0:00:01\r\u001b[K     |████████████████████████████▉   | 2.8 MB 35.4 MB/s eta 0:00:01\r\u001b[K     |█████████████████████████████   | 2.8 MB 35.4 MB/s eta 0:00:01\r\u001b[K     |█████████████████████████████   | 2.8 MB 35.4 MB/s eta 0:00:01\r\u001b[K     |█████████████████████████████▏  | 2.8 MB 35.4 MB/s eta 0:00:01\r\u001b[K     |█████████████████████████████▎  | 2.8 MB 35.4 MB/s eta 0:00:01\r\u001b[K     |█████████████████████████████▍  | 2.8 MB 35.4 MB/s eta 0:00:01\r\u001b[K     |█████████████████████████████▌  | 2.8 MB 35.4 MB/s eta 0:00:01\r\u001b[K     |█████████████████████████████▋  | 2.8 MB 35.4 MB/s eta 0:00:01\r\u001b[K     |█████████████████████████████▊  | 2.8 MB 35.4 MB/s eta 0:00:01\r\u001b[K     |█████████████████████████████▉  | 2.9 MB 35.4 MB/s eta 0:00:01\r\u001b[K     |██████████████████████████████  | 2.9 MB 35.4 MB/s eta 0:00:01\r\u001b[K     |██████████████████████████████  | 2.9 MB 35.4 MB/s eta 0:00:01\r\u001b[K     |██████████████████████████████▏ | 2.9 MB 35.4 MB/s eta 0:00:01\r\u001b[K     |██████████████████████████████▎ | 2.9 MB 35.4 MB/s eta 0:00:01\r\u001b[K     |██████████████████████████████▍ | 2.9 MB 35.4 MB/s eta 0:00:01\r\u001b[K     |██████████████████████████████▌ | 2.9 MB 35.4 MB/s eta 0:00:01\r\u001b[K     |██████████████████████████████▌ | 2.9 MB 35.4 MB/s eta 0:00:01\r\u001b[K     |██████████████████████████████▋ | 2.9 MB 35.4 MB/s eta 0:00:01\r\u001b[K     |██████████████████████████████▊ | 2.9 MB 35.4 MB/s eta 0:00:01\r\u001b[K     |██████████████████████████████▉ | 3.0 MB 35.4 MB/s eta 0:00:01\r\u001b[K     |███████████████████████████████ | 3.0 MB 35.4 MB/s eta 0:00:01\r\u001b[K     |███████████████████████████████ | 3.0 MB 35.4 MB/s eta 0:00:01\r\u001b[K     |███████████████████████████████▏| 3.0 MB 35.4 MB/s eta 0:00:01\r\u001b[K     |███████████████████████████████▎| 3.0 MB 35.4 MB/s eta 0:00:01\r\u001b[K     |███████████████████████████████▍| 3.0 MB 35.4 MB/s eta 0:00:01\r\u001b[K     |███████████████████████████████▌| 3.0 MB 35.4 MB/s eta 0:00:01\r\u001b[K     |███████████████████████████████▋| 3.0 MB 35.4 MB/s eta 0:00:01\r\u001b[K     |███████████████████████████████▊| 3.0 MB 35.4 MB/s eta 0:00:01\r\u001b[K     |███████████████████████████████▉| 3.1 MB 35.4 MB/s eta 0:00:01\r\u001b[K     |████████████████████████████████| 3.1 MB 35.4 MB/s eta 0:00:01\r\u001b[K     |████████████████████████████████| 3.1 MB 35.4 MB/s \n",
            "\u001b[?25hRequirement already satisfied: numpy>=1.17 in /usr/local/lib/python3.7/dist-packages (from transformers) (1.19.5)\n",
            "Collecting tokenizers<0.11,>=0.10.1\n",
            "  Downloading tokenizers-0.10.3-cp37-cp37m-manylinux_2_5_x86_64.manylinux1_x86_64.manylinux_2_12_x86_64.manylinux2010_x86_64.whl (3.3 MB)\n",
            "\u001b[K     |████████████████████████████████| 3.3 MB 52.0 MB/s \n",
            "\u001b[?25hRequirement already satisfied: requests in /usr/local/lib/python3.7/dist-packages (from transformers) (2.23.0)\n",
            "Requirement already satisfied: importlib-metadata in /usr/local/lib/python3.7/dist-packages (from transformers) (4.8.2)\n",
            "Collecting pyyaml>=5.1\n",
            "  Downloading PyYAML-6.0-cp37-cp37m-manylinux_2_5_x86_64.manylinux1_x86_64.manylinux_2_12_x86_64.manylinux2010_x86_64.whl (596 kB)\n",
            "\u001b[K     |████████████████████████████████| 596 kB 66.3 MB/s \n",
            "\u001b[?25hRequirement already satisfied: packaging>=20.0 in /usr/local/lib/python3.7/dist-packages (from transformers) (21.3)\n",
            "Requirement already satisfied: tqdm>=4.27 in /usr/local/lib/python3.7/dist-packages (from transformers) (4.62.3)\n",
            "Requirement already satisfied: regex!=2019.12.17 in /usr/local/lib/python3.7/dist-packages (from transformers) (2019.12.20)\n",
            "Collecting huggingface-hub<1.0,>=0.1.0\n",
            "  Downloading huggingface_hub-0.2.1-py3-none-any.whl (61 kB)\n",
            "\u001b[K     |████████████████████████████████| 61 kB 472 kB/s \n",
            "\u001b[?25hRequirement already satisfied: filelock in /usr/local/lib/python3.7/dist-packages (from transformers) (3.4.0)\n",
            "Collecting sacremoses\n",
            "  Downloading sacremoses-0.0.46-py3-none-any.whl (895 kB)\n",
            "\u001b[K     |████████████████████████████████| 895 kB 56.1 MB/s \n",
            "\u001b[?25hRequirement already satisfied: typing-extensions>=3.7.4.3 in /usr/local/lib/python3.7/dist-packages (from huggingface-hub<1.0,>=0.1.0->transformers) (3.10.0.2)\n",
            "Requirement already satisfied: pyparsing!=3.0.5,>=2.0.2 in /usr/local/lib/python3.7/dist-packages (from packaging>=20.0->transformers) (3.0.6)\n",
            "Requirement already satisfied: zipp>=0.5 in /usr/local/lib/python3.7/dist-packages (from importlib-metadata->transformers) (3.6.0)\n",
            "Requirement already satisfied: urllib3!=1.25.0,!=1.25.1,<1.26,>=1.21.1 in /usr/local/lib/python3.7/dist-packages (from requests->transformers) (1.24.3)\n",
            "Requirement already satisfied: idna<3,>=2.5 in /usr/local/lib/python3.7/dist-packages (from requests->transformers) (2.10)\n",
            "Requirement already satisfied: chardet<4,>=3.0.2 in /usr/local/lib/python3.7/dist-packages (from requests->transformers) (3.0.4)\n",
            "Requirement already satisfied: certifi>=2017.4.17 in /usr/local/lib/python3.7/dist-packages (from requests->transformers) (2021.10.8)\n",
            "Requirement already satisfied: click in /usr/local/lib/python3.7/dist-packages (from sacremoses->transformers) (7.1.2)\n",
            "Requirement already satisfied: joblib in /usr/local/lib/python3.7/dist-packages (from sacremoses->transformers) (1.1.0)\n",
            "Requirement already satisfied: six in /usr/local/lib/python3.7/dist-packages (from sacremoses->transformers) (1.15.0)\n",
            "Installing collected packages: pyyaml, tokenizers, sacremoses, huggingface-hub, transformers\n",
            "  Attempting uninstall: pyyaml\n",
            "    Found existing installation: PyYAML 3.13\n",
            "    Uninstalling PyYAML-3.13:\n",
            "      Successfully uninstalled PyYAML-3.13\n",
            "Successfully installed huggingface-hub-0.2.1 pyyaml-6.0 sacremoses-0.0.46 tokenizers-0.10.3 transformers-4.12.5\n"
          ]
        }
      ]
    },
    {
      "cell_type": "code",
      "source": [
        "import numpy as np\n",
        "import pandas as pd\n",
        "\n",
        "import torch\n",
        "\n",
        "from sklearn.cluster import KMeans\n",
        "from transformers import BertTokenizer, BertConfig, BertModel\n",
        "from sklearn.neighbors import DistanceMetric"
      ],
      "metadata": {
        "id": "1NSa0DvDsRMG"
      },
      "execution_count": 110,
      "outputs": []
    },
    {
      "cell_type": "code",
      "source": [
        "pretrained_model = \"dkleczek/bert-base-polish-cased-v1\""
      ],
      "metadata": {
        "id": "BwSX1ft9trlI"
      },
      "execution_count": 79,
      "outputs": []
    },
    {
      "cell_type": "code",
      "source": [
        "config = BertConfig.from_pretrained(pretrained_model)\n",
        "config.return_dict = True\n",
        "tokenizer = BertTokenizer.from_pretrained(pretrained_model)\n",
        "model = BertModel.from_pretrained(pretrained_model, config=config)"
      ],
      "metadata": {
        "colab": {
          "base_uri": "https://localhost:8080/"
        },
        "id": "iYV393bttyeQ",
        "outputId": "b8e7c2e6-2c83-4bf6-dd00-cff57cdef638"
      },
      "execution_count": 135,
      "outputs": [
        {
          "output_type": "stream",
          "name": "stderr",
          "text": [
            "Some weights of the model checkpoint at dkleczek/bert-base-polish-cased-v1 were not used when initializing BertModel: ['cls.predictions.transform.dense.weight', 'cls.predictions.decoder.weight', 'cls.seq_relationship.weight', 'cls.predictions.transform.dense.bias', 'cls.predictions.decoder.bias', 'cls.predictions.bias', 'cls.predictions.transform.LayerNorm.bias', 'cls.predictions.transform.LayerNorm.weight', 'cls.seq_relationship.bias']\n",
            "- This IS expected if you are initializing BertModel from the checkpoint of a model trained on another task or with another architecture (e.g. initializing a BertForSequenceClassification model from a BertForPreTraining model).\n",
            "- This IS NOT expected if you are initializing BertModel from the checkpoint of a model that you expect to be exactly identical (initializing a BertForSequenceClassification model from a BertForSequenceClassification model).\n"
          ]
        }
      ]
    },
    {
      "cell_type": "code",
      "source": [
        "text = split_text(text_original.replace('\\n', ' '))\n",
        "text"
      ],
      "metadata": {
        "colab": {
          "base_uri": "https://localhost:8080/"
        },
        "id": "dPEcm35bt00v",
        "outputId": "babd1835-ccf7-43a6-f703-01bc305f0f64"
      },
      "execution_count": 136,
      "outputs": [
        {
          "output_type": "execute_result",
          "data": {
            "text/plain": [
              "['W 18. minucie akcję zepsuli koncertowo gospodarze.',\n",
              " 'Po zagraniu Roberta Lewandowskiego we dwóch przeciwko jednemu wybiegli Jamal Musiala i Thomas Mueller.',\n",
              " 'Pierwszy podawał jednak bardzo niedokładnie i piłkę zablokował obrońca.',\n",
              " ' Jak się podaje pokazał niewiele ponad kwadrans później Lewandowski.',\n",
              " 'Polak dośrodkował z pola karnego, do piłki doszedł Mueller i głową przelobował ter Stegena.',\n",
              " 'Piłkę sprzed linii starał się jeszcze wybić obrońca, ale uczynił to już spoza niej.',\n",
              " 'Sędzia zasygnalizował, że piłka całym obwodem minęła linię.',\n",
              " ' Przed przerwą Bayern pozbawił Barcelonę wszelakich złudzeń.',\n",
              " 'Sprzed pola karnego na uderzenie zdecydował się Leroy Sane.',\n",
              " 'Nie popisał się między słupkami ter Stegen, który przepuścił piłkę.',\n",
              " ' Barcelona była świadoma, że musi',\n",
              " 'w 2. połowie zdobyć trzy gole.',\n",
              " 'Rzecz w obecnej formie i w aktualnym zestawieniu nie do wykonania.',\n",
              " 'Potwierdziło się to na boisku.',\n",
              " 'Dominował Bayern, który nie musiał się zbytnio wysilać.']"
            ]
          },
          "metadata": {},
          "execution_count": 136
        }
      ]
    },
    {
      "cell_type": "code",
      "source": [
        "encoded_text = []\n",
        "for sentence in text:\n",
        "    input_ = tokenizer.encode(sentence)\n",
        "    output = model(torch.tensor([input_])).pooler_output.detach().numpy().reshape((768,))\n",
        "    encoded_text.append(output)\n",
        "encoded_text = np.array(encoded_text)\n",
        "encoded_text\n",
        "encoded_text.shape"
      ],
      "metadata": {
        "colab": {
          "base_uri": "https://localhost:8080/"
        },
        "id": "qZxsnplPuF9-",
        "outputId": "17b00baf-e304-4452-c5a4-839c5efb151f"
      },
      "execution_count": 137,
      "outputs": [
        {
          "output_type": "execute_result",
          "data": {
            "text/plain": [
              "array([[ 0.49807522, -0.2927514 , -0.323246  , ...,  0.06374788,\n",
              "         0.2581552 ,  0.00259262],\n",
              "       [ 0.40061352, -0.3790227 , -0.12296688, ...,  0.18496408,\n",
              "         0.13373204,  0.28873363],\n",
              "       [ 0.13439797, -0.5340309 , -0.11911932, ...,  0.4214018 ,\n",
              "        -0.09426985,  0.34132352],\n",
              "       ...,\n",
              "       [ 0.1937235 , -0.38911256,  0.04295076, ..., -0.22015542,\n",
              "        -0.5467343 , -0.05844791],\n",
              "       [ 0.26968336, -0.20832339, -0.05756393, ..., -0.04131557,\n",
              "        -0.43656668, -0.07983805],\n",
              "       [ 0.11980186, -0.3508431 , -0.05522523, ..., -0.10698855,\n",
              "        -0.15314768,  0.14825675]], dtype=float32)"
            ]
          },
          "metadata": {},
          "execution_count": 137
        },
        {
          "output_type": "execute_result",
          "data": {
            "text/plain": [
              "(15, 768)"
            ]
          },
          "metadata": {},
          "execution_count": 137
        }
      ]
    },
    {
      "cell_type": "code",
      "source": [
        "kmeans = KMeans(n_clusters=4, random_state=0)\n",
        "kmeans.fit(encoded_text)\n",
        "predicted = kmeans.predict(encoded_text)"
      ],
      "metadata": {
        "colab": {
          "base_uri": "https://localhost:8080/"
        },
        "id": "DYQjE61aun-h",
        "outputId": "1c2581d0-e232-4be2-cc99-4606870ac069"
      },
      "execution_count": 138,
      "outputs": [
        {
          "output_type": "execute_result",
          "data": {
            "text/plain": [
              "KMeans(n_clusters=4, random_state=0)"
            ]
          },
          "metadata": {},
          "execution_count": 138
        }
      ]
    },
    {
      "cell_type": "markdown",
      "source": [
        "### Wybór zdań do streszczenia"
      ],
      "metadata": {
        "id": "TMg7rT6lwvOg"
      }
    },
    {
      "cell_type": "code",
      "source": [
        "predicted\n",
        "centers = list(map(lambda x: kmeans.cluster_centers_[x], predicted))\n",
        "len(centers)"
      ],
      "metadata": {
        "colab": {
          "base_uri": "https://localhost:8080/"
        },
        "id": "GWdaEPJGwM3x",
        "outputId": "139b59b2-6054-4069-ea89-1fa1528098fa"
      },
      "execution_count": 140,
      "outputs": [
        {
          "output_type": "execute_result",
          "data": {
            "text/plain": [
              "array([1, 1, 1, 1, 1, 1, 1, 0, 1, 1, 2, 0, 3, 2, 0], dtype=int32)"
            ]
          },
          "metadata": {},
          "execution_count": 140
        },
        {
          "output_type": "execute_result",
          "data": {
            "text/plain": [
              "15"
            ]
          },
          "metadata": {},
          "execution_count": 140
        }
      ]
    },
    {
      "cell_type": "code",
      "source": [
        "dist = DistanceMetric.get_metric('euclidean')\n",
        "distances = np.diagonal(dist.pairwise(encoded_text, centers))\n",
        "distances"
      ],
      "metadata": {
        "colab": {
          "base_uri": "https://localhost:8080/"
        },
        "id": "rTUqjQncwTtg",
        "outputId": "4ca32ce9-fef0-4e25-d24b-a19c3c9fbbf4"
      },
      "execution_count": 141,
      "outputs": [
        {
          "output_type": "execute_result",
          "data": {
            "text/plain": [
              "array([4.96777413e+00, 6.00107186e+00, 4.71191289e+00, 6.89490098e+00,\n",
              "       4.31424478e+00, 4.50356458e+00, 6.73283015e+00, 5.53863155e+00,\n",
              "       6.06893071e+00, 4.00640157e+00, 5.05547867e+00, 6.25844145e+00,\n",
              "       2.97864793e-07, 5.05547863e+00, 4.50331926e+00])"
            ]
          },
          "metadata": {},
          "execution_count": 141
        }
      ]
    },
    {
      "cell_type": "code",
      "source": [
        "temp = pd.DataFrame({'group': predicted, 'distance': distances})\n",
        "temp"
      ],
      "metadata": {
        "colab": {
          "base_uri": "https://localhost:8080/",
          "height": 520
        },
        "id": "xqydXDNXwXOa",
        "outputId": "307969e6-46c4-44bf-88d1-e74c7a9c1be4"
      },
      "execution_count": 142,
      "outputs": [
        {
          "output_type": "execute_result",
          "data": {
            "text/html": [
              "<div>\n",
              "<style scoped>\n",
              "    .dataframe tbody tr th:only-of-type {\n",
              "        vertical-align: middle;\n",
              "    }\n",
              "\n",
              "    .dataframe tbody tr th {\n",
              "        vertical-align: top;\n",
              "    }\n",
              "\n",
              "    .dataframe thead th {\n",
              "        text-align: right;\n",
              "    }\n",
              "</style>\n",
              "<table border=\"1\" class=\"dataframe\">\n",
              "  <thead>\n",
              "    <tr style=\"text-align: right;\">\n",
              "      <th></th>\n",
              "      <th>group</th>\n",
              "      <th>distance</th>\n",
              "    </tr>\n",
              "  </thead>\n",
              "  <tbody>\n",
              "    <tr>\n",
              "      <th>0</th>\n",
              "      <td>1</td>\n",
              "      <td>4.967774e+00</td>\n",
              "    </tr>\n",
              "    <tr>\n",
              "      <th>1</th>\n",
              "      <td>1</td>\n",
              "      <td>6.001072e+00</td>\n",
              "    </tr>\n",
              "    <tr>\n",
              "      <th>2</th>\n",
              "      <td>1</td>\n",
              "      <td>4.711913e+00</td>\n",
              "    </tr>\n",
              "    <tr>\n",
              "      <th>3</th>\n",
              "      <td>1</td>\n",
              "      <td>6.894901e+00</td>\n",
              "    </tr>\n",
              "    <tr>\n",
              "      <th>4</th>\n",
              "      <td>1</td>\n",
              "      <td>4.314245e+00</td>\n",
              "    </tr>\n",
              "    <tr>\n",
              "      <th>5</th>\n",
              "      <td>1</td>\n",
              "      <td>4.503565e+00</td>\n",
              "    </tr>\n",
              "    <tr>\n",
              "      <th>6</th>\n",
              "      <td>1</td>\n",
              "      <td>6.732830e+00</td>\n",
              "    </tr>\n",
              "    <tr>\n",
              "      <th>7</th>\n",
              "      <td>0</td>\n",
              "      <td>5.538632e+00</td>\n",
              "    </tr>\n",
              "    <tr>\n",
              "      <th>8</th>\n",
              "      <td>1</td>\n",
              "      <td>6.068931e+00</td>\n",
              "    </tr>\n",
              "    <tr>\n",
              "      <th>9</th>\n",
              "      <td>1</td>\n",
              "      <td>4.006402e+00</td>\n",
              "    </tr>\n",
              "    <tr>\n",
              "      <th>10</th>\n",
              "      <td>2</td>\n",
              "      <td>5.055479e+00</td>\n",
              "    </tr>\n",
              "    <tr>\n",
              "      <th>11</th>\n",
              "      <td>0</td>\n",
              "      <td>6.258441e+00</td>\n",
              "    </tr>\n",
              "    <tr>\n",
              "      <th>12</th>\n",
              "      <td>3</td>\n",
              "      <td>2.978648e-07</td>\n",
              "    </tr>\n",
              "    <tr>\n",
              "      <th>13</th>\n",
              "      <td>2</td>\n",
              "      <td>5.055479e+00</td>\n",
              "    </tr>\n",
              "    <tr>\n",
              "      <th>14</th>\n",
              "      <td>0</td>\n",
              "      <td>4.503319e+00</td>\n",
              "    </tr>\n",
              "  </tbody>\n",
              "</table>\n",
              "</div>"
            ],
            "text/plain": [
              "    group      distance\n",
              "0       1  4.967774e+00\n",
              "1       1  6.001072e+00\n",
              "2       1  4.711913e+00\n",
              "3       1  6.894901e+00\n",
              "4       1  4.314245e+00\n",
              "5       1  4.503565e+00\n",
              "6       1  6.732830e+00\n",
              "7       0  5.538632e+00\n",
              "8       1  6.068931e+00\n",
              "9       1  4.006402e+00\n",
              "10      2  5.055479e+00\n",
              "11      0  6.258441e+00\n",
              "12      3  2.978648e-07\n",
              "13      2  5.055479e+00\n",
              "14      0  4.503319e+00"
            ]
          },
          "metadata": {},
          "execution_count": 142
        }
      ]
    },
    {
      "cell_type": "code",
      "source": [
        "sentences_to_summary_BERT = sorted(temp.groupby('group').idxmin().values.flatten())\n",
        "sentences_to_summary_BERT"
      ],
      "metadata": {
        "colab": {
          "base_uri": "https://localhost:8080/"
        },
        "id": "aavp-K_xxxo2",
        "outputId": "8f6419ec-3c01-4a68-a262-4ded496ed848"
      },
      "execution_count": 166,
      "outputs": [
        {
          "output_type": "execute_result",
          "data": {
            "text/plain": [
              "[9, 12, 13, 14]"
            ]
          },
          "metadata": {},
          "execution_count": 166
        }
      ]
    },
    {
      "cell_type": "code",
      "source": [
        "\n",
        "sentences_to_summary_BERT = map(text.__getitem__, sentences_to_summary_BERT)"
      ],
      "metadata": {
        "id": "Mw5RZqxvyBwr"
      },
      "execution_count": 167,
      "outputs": []
    },
    {
      "cell_type": "code",
      "source": [
        "summary_BERT = \" \".join(sentences_to_summary_BERT)"
      ],
      "metadata": {
        "id": "f-CrYuWJygFW"
      },
      "execution_count": 168,
      "outputs": []
    },
    {
      "cell_type": "code",
      "source": [
        "summary_BERT"
      ],
      "metadata": {
        "colab": {
          "base_uri": "https://localhost:8080/",
          "height": 53
        },
        "id": "N3UkYzmMyjGq",
        "outputId": "17f51b76-8eec-448e-fbbf-1353cfe34f22"
      },
      "execution_count": 169,
      "outputs": [
        {
          "output_type": "execute_result",
          "data": {
            "application/vnd.google.colaboratory.intrinsic+json": {
              "type": "string"
            },
            "text/plain": [
              "'Nie popisał się między słupkami ter Stegen, który przepuścił piłkę. Rzecz w obecnej formie i w aktualnym zestawieniu nie do wykonania. Potwierdziło się to na boisku. Dominował Bayern, który nie musiał się zbytnio wysilać.'"
            ]
          },
          "metadata": {},
          "execution_count": 169
        }
      ]
    },
    {
      "cell_type": "code",
      "source": [
        "stat_summary"
      ],
      "metadata": {
        "colab": {
          "base_uri": "https://localhost:8080/",
          "height": 53
        },
        "id": "zsIYYbyUyqJD",
        "outputId": "b6f9203a-fcc9-4227-e63f-c13d30f18b12"
      },
      "execution_count": 170,
      "outputs": [
        {
          "output_type": "execute_result",
          "data": {
            "application/vnd.google.colaboratory.intrinsic+json": {
              "type": "string"
            },
            "text/plain": [
              "'Polak dośrodkował z pola karnego, do piłki doszedł Mueller i głową przelobował ter Stegena. Piłkę sprzed linii starał się jeszcze wybić obrońca, ale uczynił to już spoza niej. Pierwszy podawał jednak bardzo niedokładnie i piłkę zablokował obrońca. Sędzia zasygnalizował, że piłka całym obwodem minęła linię.'"
            ]
          },
          "metadata": {},
          "execution_count": 170
        }
      ]
    },
    {
      "cell_type": "code",
      "source": [
        "summary_BERT"
      ],
      "metadata": {
        "colab": {
          "base_uri": "https://localhost:8080/",
          "height": 53
        },
        "id": "qSbnPpY30exf",
        "outputId": "a433fd72-fd2d-46d0-c1e6-4db5b24b6b35"
      },
      "execution_count": 171,
      "outputs": [
        {
          "output_type": "execute_result",
          "data": {
            "application/vnd.google.colaboratory.intrinsic+json": {
              "type": "string"
            },
            "text/plain": [
              "'Nie popisał się między słupkami ter Stegen, który przepuścił piłkę. Rzecz w obecnej formie i w aktualnym zestawieniu nie do wykonania. Potwierdziło się to na boisku. Dominował Bayern, który nie musiał się zbytnio wysilać.'"
            ]
          },
          "metadata": {},
          "execution_count": 171
        }
      ]
    },
    {
      "cell_type": "code",
      "source": [
        ""
      ],
      "metadata": {
        "id": "_cNL0g0K1oVS"
      },
      "execution_count": null,
      "outputs": []
    },
    {
      "cell_type": "markdown",
      "source": [
        "# BART"
      ],
      "metadata": {
        "id": "KsGO8siD14fA"
      }
    },
    {
      "cell_type": "code",
      "source": [
        "import os\n",
        "import pprint\n",
        "from transformers import BartForConditionalGeneration, PreTrainedTokenizerFast, BartConfig\n"
      ],
      "metadata": {
        "id": "ogusbhZT15pw"
      },
      "execution_count": 180,
      "outputs": []
    },
    {
      "cell_type": "code",
      "source": [
        "import sys\n",
        "from google.colab import drive\n",
        "drive.mount('/content/drive')\n",
        "model_dir = './drive/MyDrive/Colab_Notebooks/BART'"
      ],
      "metadata": {
        "colab": {
          "base_uri": "https://localhost:8080/"
        },
        "id": "bxecjbcr2O5f",
        "outputId": "01ab27bc-2952-4a1a-a292-d45346e3f2da"
      },
      "execution_count": 176,
      "outputs": [
        {
          "output_type": "stream",
          "name": "stdout",
          "text": [
            "Mounted at /content/drive\n"
          ]
        },
        {
          "output_type": "execute_result",
          "data": {
            "text/plain": [
              "['pytorch_model.bin', 'config.json', 'tokenizer.json']"
            ]
          },
          "metadata": {},
          "execution_count": 176
        }
      ]
    },
    {
      "cell_type": "code",
      "source": [
        "tokenizer = PreTrainedTokenizerFast(tokenizer_file=os.path.join(model_dir, \"tokenizer.json\"))\n",
        "config = BartConfig.from_pretrained(os.path.join(model_dir, \"config.json\"))\n",
        "model = BartForConditionalGeneration.from_pretrained(model_dir, config=config)"
      ],
      "metadata": {
        "id": "4Fwx5wL92A5I"
      },
      "execution_count": 177,
      "outputs": []
    },
    {
      "cell_type": "code",
      "source": [
        "article_text = \"Szef polskiego MSZ Zbigniew Rau spotkał się w Nowym Jorku ze swoim rosyjskim odpowiednikiem Sirgiejem Ławrowem. Bała to pierwsza rozmowa obu stron na takim szczeblu od 2019 r.\\nZ oficjalnego komunikatu MSZ wynika, że spotkanie między Rauem a Ławrowem dotyczyło zbliżającego się objęcia przez Polskę przewodnictwa w OBWE.\\n\\\"W związku z przygotowaniami do objęcia przez Polskę w styczniu 2022 r. przewodnictwa w Organizacji Bezpieczeństwa i Współpracy w Europie, uczestniczący w obradach Zgromadzenia Ogólnego ONZ minister spraw zagranicznych prof. Zbigniew Rau spotkał się dziś z ministrem spraw zagranicznych Federacji Rosyjskiej Siergiejem Ławrowem\\\" - czytamy w krótkim komunikacie MSZ.\\nW komunikacie rosyjskiego MSZ poinformowano, że rozmowy Ławrowa z Rauem miały dotyczyć możliwości zwiększenia skuteczności działań OBWE. Ławrow miał również podkreślać konieczność uczynienia organizacji areną równoprawnego dialogu i wyraził nadzieję, że polskie przewodnictwo to umożliwi. \\nZobacz też: Kpiny z Andrzeja Dudy. Polityk PO był bezlitosny\\nZ komunikatu wynika również, że poruszane były inne tematy dotyczące stosunków polsko-rosyjskich, ale nie podano kornetów.\\nNowojorska rozmowa Raua z Ławrowem to pierwsze tak ważne spotkanie przedstawicieli rządów polskiego i rosyjskiego od 2019 roku. Wówczas Siergiej Ławrow spotkał się w Helsinkach z Jackiem Czaputowiczem. \\nPoza rozmową z szefem rosyjskiego MSZ, Zbigniew Rau spotkał się również m.in. z ministrami spraw zagranicznych Azerbejdżanu i Armenii, z którymi dyskutował o konflikcie w Górnym Karabachu. Ławrow zaś, rozmawiał wcześniej z sekretarzem generalnym NATO Jensem Stoltenbergiem.\\n\""
      ],
      "metadata": {
        "id": "-dz6RsCU2EXT"
      },
      "execution_count": 178,
      "outputs": []
    },
    {
      "cell_type": "code",
      "source": [
        "inputs = tokenizer([article_text], max_length=1024, return_tensors='pt')\n",
        "\n",
        "# Generate Summary\n",
        "summary_ids = model.generate(inputs['input_ids'], num_beams=4, max_length=120, early_stopping=True)\n"
      ],
      "metadata": {
        "id": "RtkYDA8_2sNV"
      },
      "execution_count": 181,
      "outputs": []
    },
    {
      "cell_type": "code",
      "source": [
        "pprint.pprint([tokenizer.decode(g, skip_special_tokens=True, clean_up_tokenization_spaces=False) for g in summary_ids][0])"
      ],
      "metadata": {
        "colab": {
          "base_uri": "https://localhost:8080/"
        },
        "id": "Y4VGcK-L2wCQ",
        "outputId": "b07d37d3-efb6-41ac-9f0f-3c5179cde445"
      },
      "execution_count": 182,
      "outputs": [
        {
          "output_type": "stream",
          "name": "stdout",
          "text": [
            "('Szef polskiego MSZ Zbigniew Rau spotkał się w Nowym Jorku ze swoim rosyjskim '\n",
            " 'odpowiednikiem Sirgiejem Ławrowem. Jak poinformowano w komunikacie MSZ, była '\n",
            " 'to pierwsza rozmowa obu stron na takim szczeblu od 2019 r.Z oficjalnego '\n",
            " 'komunikatu MSZ wynika, że spotkanie między Rauem a Ławkowem dotyczyło '\n",
            " 'zbliżającego się objęcia przez Polskę przewodnictwa w OBWE.\"W związku z '\n",
            " 'przygotowaniami do objęcia przez Rzeczpospolitą Polską w styczniu 2022 r. '\n",
            " 'Przewodnictwa w Organizacji Bezpieczeństwa i Współpracy w Europie, '\n",
            " 'uczestniczący w obradach Zgromadzenia Ogólnego ONZ minister spraw '\n",
            " 'zagranicznych prof.')\n"
          ]
        }
      ]
    },
    {
      "cell_type": "code",
      "source": [
        "article_text = \"Szef polskiego MSZ Zbigniew Rau spotkał się w Nowym Jorku ze swoim rosyjskim odpowiednikiem Sirgiejem Ławrowem. Była to pierwsza rozmowa obu stron na takim szczeblu od 2019 r.\\nZ oficjalnego komunikatu MSZ wynika, że spotkanie między Rauem a Ławrowem dotyczyło zbliżającego się objęcia przez Polskę przewodnictwa w OBWE.\\n\\\"W związku z przygotowaniami do objęcia przez Polskę w styczniu 2022 r. przewodnictwa w Organizacji Bezpieczeństwa i Współpracy w Europie, uczestniczący w obradach Zgromadzenia Ogólnego ONZ minister spraw zagranicznych prof. Zbigniew Rau spotkał się dziś z ministrem spraw zagranicznych Federacji Rosyjskiej Siergiejem Ławrowem\\\" - czytamy w krótkim komunikacie MSZ.\\nW komunikacie rosyjskiego MSZ poinformowano, że rozmowy Ławrowa z Rauem miały dotyczyć możliwości zwiększenia skuteczności działań OBWE. Ławrow miał również podkreślać konieczność uczynienia organizacji areną równoprawnego dialogu i wyraził nadzieję, że polskie przewodnictwo to umożliwi. \\nZobacz też: Kpiny z Andrzeja Dudy. Polityk PO był bezlitosny\\nZ komunikatu wynika również, że poruszane były inne tematy dotyczące stosunków polsko-rosyjskich, ale nie podano kornetów.\\nNowojorska rozmowa Raua z Ławrowem to pierwsze tak ważne spotkanie przedstawicieli rządów polskiego i rosyjskiego od 2019 roku. Wówczas Siergiej Ławrow spotkał się w Helsinkach z Jackiem Czaputowiczem. \\nPoza rozmową z szefem rosyjskiego MSZ, Zbigniew Rau spotkał się również m.in. z ministrami spraw zagranicznych Azerbejdżanu i Armenii, z którymi dyskutował o konflikcie w Górnym Karabachu. Ławrow zaś, rozmawiał wcześniej z sekretarzem generalnym NATO Jensem Stoltenbergiem.\\n\""
      ],
      "metadata": {
        "id": "Km5BtLOz3EAk"
      },
      "execution_count": 183,
      "outputs": []
    },
    {
      "cell_type": "code",
      "source": [
        "inputs = tokenizer([article_text], max_length=1024, return_tensors='pt')\n",
        "\n",
        "# Generate Summary\n",
        "summary_ids = model.generate(inputs['input_ids'], num_beams=4, max_length=120, early_stopping=True)\n"
      ],
      "metadata": {
        "id": "KhXel5_a3SCH"
      },
      "execution_count": 184,
      "outputs": []
    },
    {
      "cell_type": "code",
      "source": [
        "pprint.pprint([tokenizer.decode(g, skip_special_tokens=True, clean_up_tokenization_spaces=False) for g in summary_ids][0])"
      ],
      "metadata": {
        "colab": {
          "base_uri": "https://localhost:8080/"
        },
        "id": "cgdM32EM3Uns",
        "outputId": "52a7a83b-749b-4989-daeb-80a46e29ff24"
      },
      "execution_count": 185,
      "outputs": [
        {
          "output_type": "stream",
          "name": "stdout",
          "text": [
            "('Szef polskiego MSZ Zbigniew Rau spotkał się w Nowym Jorku ze swoim rosyjskim '\n",
            " 'odpowiednikiem Sirgiejem Ławrowem. Była to pierwsza rozmowa obu stron na '\n",
            " 'takim szczeblu od 2019 r.Z oficjalnego komunikatu MSZ wynika, że spotkanie '\n",
            " 'między Rauem a Ławkowem dotyczyło zbliżającego się objęcia przez Polskę '\n",
            " 'przewodnictwa w OBWE.\"W związku z przygotowaniami do objęcia przez '\n",
            " 'Rzeczpospolitą Polską w styczniu 2022 r. przewodnictwa, w Organizacji '\n",
            " 'Bezpieczeństwa i Współpracy w Europie, uczestniczący w obradach Zgromadzenia '\n",
            " 'Ogólnego ONZ minister spraw zagranicznych prof. Zbigniew Rauża spotkał się '\n",
            " 'dziś')\n"
          ]
        }
      ]
    },
    {
      "cell_type": "code",
      "source": [
        ""
      ],
      "metadata": {
        "id": "iVqV9T1l3X-f"
      },
      "execution_count": null,
      "outputs": []
    }
  ]
}